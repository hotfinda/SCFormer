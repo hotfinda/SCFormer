{
 "cells": [
  {
   "cell_type": "code",
   "execution_count": 1,
   "id": "b336547a",
   "metadata": {},
   "outputs": [
    {
     "name": "stdout",
     "output_type": "stream",
     "text": [
      "[[0, 1, 2], [3, 4, 5, 6], [7, 8, 9, 10, 11, 12], [13, 14, 15, 16]]\n",
      "[[0.0, 0.0, 0.0], [0.0, 0.0, 0.0, 0.0], [0.0, 0.0, 0.0, 0.0, 0.0, 0.0], [0.0, 0.0, 0.0, 0.0]]\n"
     ]
    }
   ],
   "source": [
    "sd=0.0\n",
    "num_blocks=(3, 4, 6, 4)\n",
    "idxs = [[j for j in range(sum(num_blocks[:i]), sum(num_blocks[:i + 1]))] for i in range(len(num_blocks))]\n",
    "sds = [[sd * j / (sum(num_blocks) - 1) for j in js] for js in idxs]\n",
    "\n",
    "print(idxs)\n",
    "print(sds)"
   ]
  },
  {
   "cell_type": "code",
   "execution_count": 15,
   "id": "a52d31d9",
   "metadata": {},
   "outputs": [
    {
     "name": "stdout",
     "output_type": "stream",
     "text": [
      "[False, True, True, True]\n",
      "[1, 1, 1, 1]\n"
     ]
    }
   ],
   "source": [
    "stride = 1\n",
    "num_block1=(3, 3, 5, 3)\n",
    "num_block2=(0, 1, 2, 1)\n",
    "\n",
    "if num_block2[2]==2:\n",
    "    alt_seq = [False] * (num_block1[1] - num_block2[1] * 2) + [True, True, True,True,True] * (num_block2[1]-1)\n",
    "else:\n",
    "    alt_seq = [False] * (num_block1[1] - num_block2[1] * 2) + [True, True, True] * num_block2[1]\n",
    "    stride_seq = [stride] + [1] * (num_block1[3] - 1)\n",
    "print(alt_seq)\n",
    "print(stride_seq)"
   ]
  },
  {
   "cell_type": "code",
   "execution_count": null,
   "id": "6e902165",
   "metadata": {},
   "outputs": [],
   "source": [
    "[False, False, False]\n",
    "[False, False, False, True]\n",
    "[False, True, False, True, False, True]\n",
    "[False, True, False, True]\n",
    "\n",
    "\n",
    "gaiwei\n",
    "[False, False, False]\n",
    "[False, True, True, True]\n",
    "[False, True, True, True, True, True]\n",
    "[False, True, True, True]"
   ]
  },
  {
   "cell_type": "code",
   "execution_count": 5,
   "id": "1a64e021",
   "metadata": {},
   "outputs": [
    {
     "name": "stdout",
     "output_type": "stream",
     "text": [
      "[False, True, False, True, False, True]\n",
      "[1, 1, 1, 1, 1, 1]\n"
     ]
    }
   ],
   "source": [
    "num_block1=(3, 4, 6, 4)\n",
    "num_block2=(0, 1, 3, 2)\n",
    "stride = 1\n",
    "alt_seq = [False] * (num_block1[2] - num_block2[2] * 2) + [False, True] * num_block2[2]\n",
    "stride_seq = [stride] + [1] * (num_block1 [2]- 1)\n",
    "print(alt_seq)\n",
    "print(stride_seq)"
   ]
  },
  {
   "cell_type": "code",
   "execution_count": null,
   "id": "147e2f77",
   "metadata": {},
   "outputs": [],
   "source": []
  }
 ],
 "metadata": {
  "kernelspec": {
   "display_name": "Python 3 (ipykernel)",
   "language": "python",
   "name": "python3"
  },
  "language_info": {
   "codemirror_mode": {
    "name": "ipython",
    "version": 3
   },
   "file_extension": ".py",
   "mimetype": "text/x-python",
   "name": "python",
   "nbconvert_exporter": "python",
   "pygments_lexer": "ipython3",
   "version": "3.7.13"
  }
 },
 "nbformat": 4,
 "nbformat_minor": 5
}
